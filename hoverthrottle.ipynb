{
 "cells": [
  {
   "cell_type": "code",
   "execution_count": 1,
   "id": "1bc428f7-9070-460e-9fe4-cf62622ebbee",
   "metadata": {},
   "outputs": [],
   "source": [
    "%matplotlib widget"
   ]
  },
  {
   "cell_type": "code",
   "execution_count": 2,
   "id": "f591905c-9fa6-4a4c-87aa-fc989889452d",
   "metadata": {},
   "outputs": [],
   "source": [
    "# curve.py  ── fixed single-figure widget version ─────────────────────\n",
    "import numpy as np\n",
    "import matplotlib.pyplot as plt\n",
    "import ipywidgets as widgets                     # ← add this line\n",
    "from IPython.display import display, clear_output\n",
    "\n",
    "PWM_MIN, PWM_MAX = 1000, 2000\n",
    "TABLE_LEN        = 12\n",
    "\n",
    "# ─── math helpers (unchanged) ────────────────────────────────────────\n",
    "def _quad_bezier_y(x, p0x, p1x, p2x, p0y, p1y, p2y):\n",
    "    a, b, c = p0x - 2*p1x + p2x, 2*p1x - 2*p0x, p0x - x\n",
    "    if abs(a) < 1e-6:\n",
    "        t = -c/b if abs(b) > 1e-6 else 0.0\n",
    "    else:\n",
    "        disc = b*b - 4*a*c\n",
    "        if disc >= 0:\n",
    "            root = disc**0.5\n",
    "            t1, t2 = (-b + root)/(2*a), (-b - root)/(2*a)\n",
    "            t = t1 if 0 <= t1 <= 1 else t2\n",
    "        else:\n",
    "            t = 0.0\n",
    "    t = max(0.0, min(1.0, t))\n",
    "    return (1-t)**2*p0y + 2*(1-t)*t*p1y + t**2*p2y\n",
    "\n",
    "def _segment_y(x, thrMid, expo, thrHover):\n",
    "    cp1x, cp1y = thrMid*(1-expo), thrHover\n",
    "    cp2x, cp2y = thrMid + (1-thrMid)*expo, thrHover\n",
    "    if x <= thrMid:\n",
    "        return _quad_bezier_y(x, 0, cp1x, thrMid, 0, cp1y, thrHover)\n",
    "    return  _quad_bezier_y(x, thrMid, cp2x, 1, thrHover, cp2y, 1)\n",
    "\n",
    "def throttle_curve(thrMid=0.5, expo=0.0, thrHover=0.5, points=1000):\n",
    "    xs = np.linspace(0, 1, points)\n",
    "    ys = np.array([_segment_y(x, thrMid, expo, thrHover) for x in xs])\n",
    "    return xs, ys\n",
    "\n",
    "def lookup_table(thrMid=0.5, expo=0.0, thrHover=0.5,\n",
    "                 length=TABLE_LEN, pwm_min=PWM_MIN, pwm_max=PWM_MAX):\n",
    "    _, y = throttle_curve(thrMid, expo, thrHover, length)\n",
    "    return np.rint(pwm_min + y*(pwm_max-pwm_min)).astype(int)\n",
    "\n",
    "# ─── interactive UI ──────────────────────────────────────────────────\n",
    "def interactive_curve():\n",
    "    # ── 1 ▸ build figure while auto-display is OFF ────────────────\n",
    "    fig_box = widgets.Output()             # figure goes here\n",
    "    with fig_box, plt.ioff():\n",
    "        fig, ax = plt.subplots(figsize=(6, 4))\n",
    "        display(fig.canvas)                       # single, explicit display\n",
    "    line,   = ax.plot([], [], lw=2, label=\"throttle curve\")\n",
    "    anchors = ax.scatter([], [], s=50, label=\"anchor pts\")\n",
    "    ctrls   = ax.scatter([], [], marker='x', s=80, label=\"control pts\")\n",
    "    seg1,   = ax.plot([], [], ls='--', lw=1, alpha=.6)\n",
    "    seg2,   = ax.plot([], [], ls='--', lw=1, alpha=.6)\n",
    "    ax.set_xlim(0, 1); ax.set_ylim(0, 1)\n",
    "    ax.set_xlabel('normalised stick'); ax.set_ylabel('normalised output')\n",
    "    ax.grid(True); ax.legend(loc='upper left')\n",
    "\n",
    "    # ── 2 ▸ widgets ------------------------------------------------\n",
    "\n",
    "    text_box = widgets.Output()            # lookup-table print area\n",
    "\n",
    "    # sliders\n",
    "    s_mid   = widgets.FloatSlider(value=0.5, min=0, max=1, step=0.01, description='Mid')\n",
    "    s_expo  = widgets.FloatSlider(value=0.0, min=0, max=1, step=0.01, description='Expo')\n",
    "    s_hover = widgets.FloatSlider(value=0.5, min=0, max=1, step=0.01, description='Hover')\n",
    "    s_len   = widgets.IntSlider  (value=TABLE_LEN, min=4, max=32,     description='Tbl-len')\n",
    "    sliders = widgets.VBox([s_mid, s_expo, s_hover, s_len])\n",
    "\n",
    "    display(widgets.VBox([fig_box, text_box, sliders]))\n",
    "\n",
    "    # ── 3 ▸ refresh logic (unchanged apart from text_box target) ---\n",
    "    def refresh(_=None):\n",
    "        thrMid, expo, thrHover, tlen = s_mid.value, s_expo.value, s_hover.value, s_len.value\n",
    "        xs, ys = throttle_curve(thrMid, expo, thrHover)\n",
    "        line.set_data(xs, ys)\n",
    "\n",
    "        cp1x, cp1y = thrMid*(1-expo), thrHover\n",
    "        cp2x, cp2y = thrMid + (1-thrMid)*expo, thrHover\n",
    "        anchors.set_offsets(np.c_[[0, thrMid, 1], [0, thrHover, 1]])\n",
    "        ctrls  .set_offsets(np.c_[[cp1x, cp2x],   [cp1y, cp2y]])\n",
    "        seg1.set_data([0, cp1x, thrMid], [0, cp1y, thrHover])\n",
    "        seg2.set_data([thrMid, cp2x, 1], [thrHover, cp2y, 1])\n",
    "        ax.set_title(f\"Mid={thrMid:.2f}  Hover={thrHover:.2f}  Expo={expo:.2f}\")\n",
    "\n",
    "        with text_box:\n",
    "            clear_output(wait=True)\n",
    "            print(f\"lookupThrottleRC[{tlen}] = {lookup_table(thrMid, expo, thrHover, tlen).tolist()}\")\n",
    "\n",
    "        fig.canvas.draw_idle()\n",
    "\n",
    "    for s in (s_mid, s_expo, s_hover, s_len):\n",
    "        s.observe(refresh, 'value')\n",
    "    refresh()                               # initial draw"
   ]
  },
  {
   "cell_type": "code",
   "execution_count": 3,
   "id": "ee0fdab9-eef5-4418-b46c-acfd99338432",
   "metadata": {},
   "outputs": [
    {
     "data": {
      "application/vnd.jupyter.widget-view+json": {
       "model_id": "2288ba9b63014ff2846fa606bb916906",
       "version_major": 2,
       "version_minor": 0
      },
      "text/plain": [
       "VBox(children=(Output(), Output(), VBox(children=(FloatSlider(value=0.5, description='Mid', max=1.0, step=0.01…"
      ]
     },
     "metadata": {},
     "output_type": "display_data"
    }
   ],
   "source": [
    "interactive_curve()"
   ]
  }
 ],
 "metadata": {
  "kernelspec": {
   "display_name": "Python 3 (ipykernel)",
   "language": "python",
   "name": "python3"
  },
  "language_info": {
   "codemirror_mode": {
    "name": "ipython",
    "version": 3
   },
   "file_extension": ".py",
   "mimetype": "text/x-python",
   "name": "python",
   "nbconvert_exporter": "python",
   "pygments_lexer": "ipython3",
   "version": "3.11.2"
  }
 },
 "nbformat": 4,
 "nbformat_minor": 5
}
